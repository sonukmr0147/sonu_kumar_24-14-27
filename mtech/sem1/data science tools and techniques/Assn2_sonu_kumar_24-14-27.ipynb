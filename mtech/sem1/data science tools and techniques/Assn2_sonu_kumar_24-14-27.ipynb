{
 "cells": [
  {
   "cell_type": "markdown",
   "id": "b5b890e5",
   "metadata": {},
   "source": [
    "# q1"
   ]
  },
  {
   "cell_type": "code",
   "execution_count": 1,
   "id": "3e116694",
   "metadata": {},
   "outputs": [],
   "source": [
    "import numpy as np"
   ]
  },
  {
   "cell_type": "code",
   "execution_count": 2,
   "id": "301ee9bd",
   "metadata": {},
   "outputs": [
    {
     "name": "stdout",
     "output_type": "stream",
     "text": [
      "[ 0  1  2  3  4  5  6  7  8  9 10 11 12 13 14 15 16 17 18 19 20 21 22 23\n",
      " 24 25 26 27 28 29]\n",
      "(30,)\n"
     ]
    }
   ],
   "source": [
    "#a)\n",
    "var1=np.arange(0,30)\n",
    "print(var1)\n",
    "print(var1.shape)"
   ]
  },
  {
   "cell_type": "code",
   "execution_count": 3,
   "id": "d4168522",
   "metadata": {},
   "outputs": [
    {
     "name": "stdout",
     "output_type": "stream",
     "text": [
      "[[ 0  1  2  3  4  5  6  7  8  9]\n",
      " [10 11 12 13 14 15 16 17 18 19]\n",
      " [20 21 22 23 24 25 26 27 28 29]]\n"
     ]
    }
   ],
   "source": [
    "#b)\n",
    "var2=var1.reshape((3,10))\n",
    "print(var2)"
   ]
  },
  {
   "cell_type": "code",
   "execution_count": 4,
   "id": "d087e172",
   "metadata": {},
   "outputs": [
    {
     "name": "stdout",
     "output_type": "stream",
     "text": [
      "[[[ 0  1  2]\n",
      "  [ 3  4  5]\n",
      "  [ 6  7  8]\n",
      "  [ 9 10 11]\n",
      "  [12 13 14]]\n",
      "\n",
      " [[15 16 17]\n",
      "  [18 19 20]\n",
      "  [21 22 23]\n",
      "  [24 25 26]\n",
      "  [27 28 29]]]\n"
     ]
    }
   ],
   "source": [
    "#c)\n",
    "var3=var2.reshape((2,5,3))\n",
    "# or we can wrtie\n",
    "#var3=var1.reshape((2,5,3))\n",
    "print(var3)"
   ]
  },
  {
   "cell_type": "code",
   "execution_count": 5,
   "id": "4d0009a2",
   "metadata": {},
   "outputs": [
    {
     "name": "stdout",
     "output_type": "stream",
     "text": [
      "[[ 0  1  2  3  4  5  6  7  8  9]\n",
      " [-1 11 12 13 14 15 16 17 18 19]\n",
      " [20 21 22 23 24 25 26 27 28 29]]\n",
      "[[[ 0  1  2]\n",
      "  [ 3  4  5]\n",
      "  [ 6  7  8]\n",
      "  [ 9 -1 11]\n",
      "  [12 13 14]]\n",
      "\n",
      " [[15 16 17]\n",
      "  [18 19 20]\n",
      "  [21 22 23]\n",
      "  [24 25 26]\n",
      "  [27 28 29]]]\n"
     ]
    }
   ],
   "source": [
    "var2[1][0]=-1\n",
    "print(var2)\n",
    "print(var3)"
   ]
  },
  {
   "cell_type": "code",
   "execution_count": 6,
   "id": "b2cefafe",
   "metadata": {},
   "outputs": [],
   "source": [
    "#  therefore reshape return a view not a copy"
   ]
  },
  {
   "cell_type": "code",
   "execution_count": 7,
   "id": "661ac838",
   "metadata": {},
   "outputs": [],
   "source": [
    "#e"
   ]
  },
  {
   "cell_type": "code",
   "execution_count": 8,
   "id": "06fd8680",
   "metadata": {},
   "outputs": [
    {
     "name": "stdout",
     "output_type": "stream",
     "text": [
      "[[ 3 12 21 19 39]\n",
      " [48 57 66 75 84]]\n"
     ]
    }
   ],
   "source": [
    "sum_var3_2nddim=np.sum(var3,axis=2)\n",
    "print(sum_var3_2nddim)"
   ]
  },
  {
   "cell_type": "code",
   "execution_count": 9,
   "id": "a22a1764",
   "metadata": {},
   "outputs": [
    {
     "name": "stdout",
     "output_type": "stream",
     "text": [
      "[[15 17 19]\n",
      " [21 23 25]\n",
      " [27 29 31]\n",
      " [33 24 37]\n",
      " [39 41 43]]\n"
     ]
    }
   ],
   "source": [
    "sum_var3_0nddim=np.sum(var3,axis=0)\n",
    "print(sum_var3_0nddim)"
   ]
  },
  {
   "cell_type": "code",
   "execution_count": 10,
   "id": "08265f7e",
   "metadata": {},
   "outputs": [
    {
     "name": "stdout",
     "output_type": "stream",
     "text": [
      "[135 134 155]\n"
     ]
    }
   ],
   "source": [
    "sum_var3_01nddim=np.sum(var3, axis=(0,1))\n",
    "print(sum_var3_01nddim)"
   ]
  },
  {
   "cell_type": "code",
   "execution_count": 11,
   "id": "92f4f8ba",
   "metadata": {},
   "outputs": [],
   "source": [
    "#f"
   ]
  },
  {
   "cell_type": "code",
   "execution_count": 12,
   "id": "1c6e5e11",
   "metadata": {},
   "outputs": [
    {
     "name": "stdout",
     "output_type": "stream",
     "text": [
      "[[ 0  1  2  3  4  5  6  7  8  9]\n",
      " [-1 11 12 13 14 15 16 17 18 19]\n",
      " [20 21 22 23 24 25 26 27 28 29]]\n"
     ]
    }
   ],
   "source": [
    "print(var2)"
   ]
  },
  {
   "cell_type": "code",
   "execution_count": 13,
   "id": "ad3db3aa",
   "metadata": {},
   "outputs": [
    {
     "name": "stdout",
     "output_type": "stream",
     "text": [
      "[-1 11 12 13 14 15 16 17 18 19]\n"
     ]
    }
   ],
   "source": [
    "#row2=var2[2-1]\n",
    "row2=var2[1]\n",
    "print(row2)"
   ]
  },
  {
   "cell_type": "code",
   "execution_count": 14,
   "id": "0ed9950b",
   "metadata": {},
   "outputs": [
    {
     "name": "stdout",
     "output_type": "stream",
     "text": [
      "[ 9 19 29]\n"
     ]
    }
   ],
   "source": [
    "last_col=var2[:,-1]\n",
    "print(last_col)"
   ]
  },
  {
   "cell_type": "code",
   "execution_count": null,
   "id": "09e20198",
   "metadata": {},
   "outputs": [],
   "source": []
  },
  {
   "cell_type": "code",
   "execution_count": 15,
   "id": "37817f7e",
   "metadata": {},
   "outputs": [
    {
     "name": "stdout",
     "output_type": "stream",
     "text": [
      "[[ 0  1  2]\n",
      " [-1 11 12]\n",
      " [20 21 22]]\n"
     ]
    }
   ],
   "source": [
    "firstn_col=var2[:,0:3]\n",
    "print(firstn_col)"
   ]
  },
  {
   "cell_type": "code",
   "execution_count": 16,
   "id": "573585f4",
   "metadata": {},
   "outputs": [
    {
     "name": "stdout",
     "output_type": "stream",
     "text": [
      "[[ 8  9]\n",
      " [18 19]\n",
      " [28 29]]\n"
     ]
    }
   ],
   "source": [
    "last_ncol=var2[:,-2::]\n",
    "print(last_ncol)"
   ]
  },
  {
   "cell_type": "code",
   "execution_count": 17,
   "id": "e25b3fbf",
   "metadata": {},
   "outputs": [
    {
     "name": "stdout",
     "output_type": "stream",
     "text": [
      "[[ 8  9]\n",
      " [18 19]]\n"
     ]
    }
   ],
   "source": [
    "right=var2[0:2:,-2::]\n",
    "print(right)"
   ]
  },
  {
   "cell_type": "code",
   "execution_count": null,
   "id": "887d4346",
   "metadata": {},
   "outputs": [],
   "source": []
  },
  {
   "cell_type": "code",
   "execution_count": null,
   "id": "804015fb",
   "metadata": {},
   "outputs": [],
   "source": []
  },
  {
   "cell_type": "code",
   "execution_count": null,
   "id": "13533bd3",
   "metadata": {},
   "outputs": [],
   "source": []
  },
  {
   "cell_type": "code",
   "execution_count": null,
   "id": "b9659c7a",
   "metadata": {},
   "outputs": [],
   "source": []
  },
  {
   "cell_type": "code",
   "execution_count": null,
   "id": "c8c28f68",
   "metadata": {},
   "outputs": [],
   "source": []
  },
  {
   "cell_type": "markdown",
   "id": "318979e3",
   "metadata": {},
   "source": [
    " # q2  broadcasting\n"
   ]
  },
  {
   "cell_type": "code",
   "execution_count": 18,
   "id": "46441e17",
   "metadata": {},
   "outputs": [],
   "source": [
    "#used to perform operation on different size of arrays"
   ]
  },
  {
   "cell_type": "code",
   "execution_count": 19,
   "id": "1c30ef1d",
   "metadata": {},
   "outputs": [],
   "source": [
    "arr1=np.array([1,2,3])"
   ]
  },
  {
   "cell_type": "code",
   "execution_count": 20,
   "id": "1250e708",
   "metadata": {},
   "outputs": [
    {
     "name": "stdout",
     "output_type": "stream",
     "text": [
      "[[3]\n",
      " [4]\n",
      " [5]\n",
      " [7]]\n"
     ]
    }
   ],
   "source": [
    "arr2=np.array([[3],[4],[5],[7]])\n",
    "'''\n",
    "\n",
    "arr2=np.array([3,4,5])\n",
    "arr2=np.transpose(arr2)\n",
    "print(arr2)\n",
    "\n",
    "'''\n",
    "print(arr2)"
   ]
  },
  {
   "cell_type": "code",
   "execution_count": 21,
   "id": "91f358dc",
   "metadata": {},
   "outputs": [
    {
     "name": "stdout",
     "output_type": "stream",
     "text": [
      "[[ 3  6  9]\n",
      " [ 4  8 12]\n",
      " [ 5 10 15]\n",
      " [ 7 14 21]]\n"
     ]
    }
   ],
   "source": [
    "sum=arr1*arr2\n",
    "print(sum)"
   ]
  },
  {
   "cell_type": "code",
   "execution_count": 22,
   "id": "0a79e619",
   "metadata": {},
   "outputs": [
    {
     "name": "stdout",
     "output_type": "stream",
     "text": [
      "[[ 9 18 27]\n",
      " [12 24 36]\n",
      " [15 30 45]\n",
      " [21 42 63]]\n"
     ]
    }
   ],
   "source": [
    "x1=3*sum\n",
    "print(x1)"
   ]
  },
  {
   "cell_type": "code",
   "execution_count": null,
   "id": "b7cdc4b4",
   "metadata": {},
   "outputs": [],
   "source": []
  },
  {
   "cell_type": "code",
   "execution_count": 23,
   "id": "6a9c33e3",
   "metadata": {},
   "outputs": [],
   "source": [
    "#rough jst play around broadcasting"
   ]
  },
  {
   "cell_type": "code",
   "execution_count": 24,
   "id": "22f6c88c",
   "metadata": {},
   "outputs": [
    {
     "data": {
      "text/plain": [
       "array([[[ 0,  1,  2],\n",
       "        [ 3,  4,  5],\n",
       "        [ 6,  7,  8],\n",
       "        [ 9, -1, 11],\n",
       "        [12, 13, 14]],\n",
       "\n",
       "       [[15, 16, 17],\n",
       "        [18, 19, 20],\n",
       "        [21, 22, 23],\n",
       "        [24, 25, 26],\n",
       "        [27, 28, 29]]])"
      ]
     },
     "execution_count": 24,
     "metadata": {},
     "output_type": "execute_result"
    }
   ],
   "source": [
    "var3"
   ]
  },
  {
   "cell_type": "code",
   "execution_count": 25,
   "id": "2382d948",
   "metadata": {},
   "outputs": [],
   "source": [
    "x3=np.ones((5,3))\n",
    "#x3=np.array([[1],[2],[3]])\n",
    "#x3=np.array([[1,2,3]])"
   ]
  },
  {
   "cell_type": "code",
   "execution_count": 26,
   "id": "cfcb9453",
   "metadata": {},
   "outputs": [
    {
     "name": "stdout",
     "output_type": "stream",
     "text": [
      "[[[ 1.  2.  3.]\n",
      "  [ 4.  5.  6.]\n",
      "  [ 7.  8.  9.]\n",
      "  [10.  0. 12.]\n",
      "  [13. 14. 15.]]\n",
      "\n",
      " [[16. 17. 18.]\n",
      "  [19. 20. 21.]\n",
      "  [22. 23. 24.]\n",
      "  [25. 26. 27.]\n",
      "  [28. 29. 30.]]]\n"
     ]
    }
   ],
   "source": [
    "x2=var3+x3\n",
    "print(x2)"
   ]
  },
  {
   "cell_type": "code",
   "execution_count": null,
   "id": "a306d182",
   "metadata": {},
   "outputs": [],
   "source": []
  },
  {
   "cell_type": "code",
   "execution_count": 27,
   "id": "594e0ce2",
   "metadata": {},
   "outputs": [
    {
     "name": "stdout",
     "output_type": "stream",
     "text": [
      "[0 1 2 3 4 5 6 7 8 9]\n"
     ]
    }
   ],
   "source": [
    "vec1=np.arange(10)\n",
    "print(vec1)\n"
   ]
  },
  {
   "cell_type": "code",
   "execution_count": 28,
   "id": "9c55ef3e",
   "metadata": {},
   "outputs": [
    {
     "name": "stdout",
     "output_type": "stream",
     "text": [
      "[ 1  2  3  4  5  6  7  8  9 10]\n"
     ]
    }
   ],
   "source": [
    "vec2=[[1]]\n",
    "#sumvec=vec1+vec2\n",
    "sumvec=1+vec1\n",
    "print(sumvec)"
   ]
  },
  {
   "cell_type": "code",
   "execution_count": 29,
   "id": "d84e9a5c",
   "metadata": {},
   "outputs": [
    {
     "name": "stdout",
     "output_type": "stream",
     "text": [
      "[[ 1]\n",
      " [ 2]\n",
      " [ 3]\n",
      " [ 4]\n",
      " [ 5]\n",
      " [ 6]\n",
      " [ 7]\n",
      " [ 8]\n",
      " [ 9]\n",
      " [10]]\n"
     ]
    }
   ],
   "source": [
    "vec3=sumvec.reshape(10,1)\n",
    "print(vec3)"
   ]
  },
  {
   "cell_type": "code",
   "execution_count": 30,
   "id": "4598a95d",
   "metadata": {},
   "outputs": [
    {
     "name": "stdout",
     "output_type": "stream",
     "text": [
      "[[ 2  3  4  5  6  7  8  9 10 11]\n",
      " [ 3  4  5  6  7  8  9 10 11 12]\n",
      " [ 4  5  6  7  8  9 10 11 12 13]\n",
      " [ 5  6  7  8  9 10 11 12 13 14]\n",
      " [ 6  7  8  9 10 11 12 13 14 15]\n",
      " [ 7  8  9 10 11 12 13 14 15 16]\n",
      " [ 8  9 10 11 12 13 14 15 16 17]\n",
      " [ 9 10 11 12 13 14 15 16 17 18]\n",
      " [10 11 12 13 14 15 16 17 18 19]\n",
      " [11 12 13 14 15 16 17 18 19 20]]\n"
     ]
    }
   ],
   "source": [
    "#b)\n",
    "A=sumvec+vec3\n",
    "print(A)"
   ]
  },
  {
   "cell_type": "code",
   "execution_count": 31,
   "id": "f239f07a",
   "metadata": {},
   "outputs": [],
   "source": [
    "import numpy.random as npr"
   ]
  },
  {
   "cell_type": "code",
   "execution_count": 32,
   "id": "ae5439b7",
   "metadata": {},
   "outputs": [
    {
     "name": "stdout",
     "output_type": "stream",
     "text": [
      "[[2.46941436 1.7783309  2.45197171 1.79124872 1.01454886]\n",
      " [1.96105758 2.04660136 1.34420124 2.15725686 1.20479382]\n",
      " [2.26742967 2.31095447 1.89447534 1.77722528 1.44340454]\n",
      " [2.39634161 1.77500128 1.21795268 1.31296081 2.08801917]\n",
      " [1.14924978 1.91228713 1.30634324 1.64335641 1.83397732]\n",
      " [1.52586759 2.01870121 2.39931107 1.11282518 1.4344737 ]\n",
      " [2.4320405  1.70575896 2.47309868 1.77318697 1.73433793]\n",
      " [1.85117816 1.90781841 1.40910189 1.74237832 1.36913851]\n",
      " [1.9754725  2.70700962 1.74469823 1.95545526 1.61068103]\n",
      " [1.66739252 1.71951638 2.54946531 1.12689421 1.09359876]\n",
      " [2.32479666 1.47374924 1.54602811 2.13472998 1.10063905]\n",
      " [1.39815557 2.45926608 1.72268937 2.47697962 1.15618871]\n",
      " [1.81415053 1.41698583 1.67426517 1.12604671 1.66258883]\n",
      " [1.26416262 2.29908167 2.66931757 1.22918804 1.72804741]\n",
      " [1.97702677 1.60088337 2.01989983 2.15022773 1.0095474 ]\n",
      " [1.39885409 1.45855689 2.11449357 2.36747041 1.17682012]\n",
      " [1.98029567 1.65196491 1.3492787  1.33950269 1.55327374]\n",
      " [1.31722151 1.22607951 2.07666771 1.13036497 1.09377268]\n",
      " [1.59180956 1.36425195 1.96336001 2.63787138 2.71198789]\n",
      " [2.64153755 2.16340948 1.1285115  1.28540106 1.73054813]\n",
      " [2.30477792 2.15266311 1.12960842 1.01307472 1.6761371 ]\n",
      " [1.6107933  1.15884837 1.52018487 2.58599121 1.3919204 ]\n",
      " [2.57317683 1.14412696 1.08841274 1.18853564 2.34732959]\n",
      " [2.68923358 1.04481258 1.40085916 2.48800774 2.03647066]\n",
      " [1.09878812 2.4607467  2.10120742 1.32055375 1.64103811]\n",
      " [1.54394916 1.83643706 2.05765537 1.29806719 2.18447375]\n",
      " [1.89795545 2.08746088 1.49300921 2.02916922 1.4156427 ]\n",
      " [1.89409912 1.66393942 1.55059092 1.19566254 1.20263345]\n",
      " [1.64592549 1.20332443 1.07567906 1.17119466 1.09269676]\n",
      " [2.61064809 1.86382618 1.60708211 2.61409707 1.49948184]\n",
      " [2.62176423 2.05313613 1.80407145 2.54540546 1.24329272]\n",
      " [1.9346944  1.60244331 2.71588268 1.96787796 1.66295743]\n",
      " [2.39143464 1.14480131 1.46579312 1.42603633 2.21426818]\n",
      " [1.57941454 1.67536441 1.12496136 1.89997331 1.85848012]\n",
      " [1.34801004 1.18877966 2.37319632 2.33490359 2.29626819]\n",
      " [1.11144362 1.85525024 1.78717111 2.43339962 1.60743663]\n",
      " [2.38543671 1.23616795 2.53156868 1.68277727 1.50421869]\n",
      " [1.9317573  2.22420769 1.52765004 1.0442102  1.70305056]\n",
      " [2.6150686  1.5808339  2.05304641 1.32218968 1.02349391]\n",
      " [2.19415914 1.37802821 1.15996199 1.66458884 1.18816685]\n",
      " [2.19259719 1.08354278 1.81393873 1.59988911 2.63737606]\n",
      " [2.68707303 2.40853848 1.59973658 2.11437547 1.08576436]\n",
      " [1.42137222 2.66043206 1.21229705 2.47664326 1.60971128]\n",
      " [1.54941301 1.48878639 2.2282201  1.77443346 2.1735671 ]\n",
      " [1.01511723 1.66630052 1.43281585 1.70025965 2.29946629]\n",
      " [2.05069624 1.59392255 2.65448986 2.58684654 1.41203734]\n",
      " [1.79268035 2.28487619 1.57505313 1.0287246  1.06355578]\n",
      " [1.61087249 1.37445409 2.01302377 1.45609162 1.66989773]\n",
      " [1.91652117 1.33878809 2.66912904 2.53776132 2.58605755]\n",
      " [2.07293133 2.11072472 1.53129071 1.25378203 1.38825554]]\n"
     ]
    }
   ],
   "source": [
    "#data=np.exp(npr.randn(50,5))\n",
    "data=np.exp(npr.rand(50,5))\n",
    "print(data)"
   ]
  },
  {
   "cell_type": "code",
   "execution_count": 33,
   "id": "8d0607a5",
   "metadata": {},
   "outputs": [
    {
     "name": "stdout",
     "output_type": "stream",
     "text": [
      "[[1. 1. 1. 1. 1. 1. 1. 1. 1. 1. 1. 1. 1. 1. 1. 1. 1. 1. 1. 1. 1. 1. 1. 1.\n",
      "  1. 1. 1. 1. 1. 1. 1. 1. 1. 1. 1. 1. 1. 1. 1. 1. 1. 1. 1. 1. 1. 1. 1. 1.\n",
      "  1. 1.]]\n"
     ]
    }
   ],
   "source": [
    "temp=np.ones((1,50))\n",
    "print(temp)"
   ]
  },
  {
   "cell_type": "code",
   "execution_count": 34,
   "id": "f3b798a0",
   "metadata": {},
   "outputs": [
    {
     "name": "stdout",
     "output_type": "stream",
     "text": [
      "[[1.91390519 1.75123546 1.78705436 1.76050187 1.60931069]]\n"
     ]
    }
   ],
   "source": [
    "means=(np.dot(temp,data))/50\n",
    "print(means)"
   ]
  },
  {
   "cell_type": "code",
   "execution_count": 35,
   "id": "ae2d66b5",
   "metadata": {},
   "outputs": [
    {
     "name": "stdout",
     "output_type": "stream",
     "text": [
      "[1.91390519 1.75123546 1.78705436 1.76050187 1.60931069]\n",
      "[0.47154887 0.43521788 0.48449141 0.52468298 0.45520194]\n"
     ]
    }
   ],
   "source": [
    "#method 2\n",
    "tdata=np.transpose(data)\n",
    "mean2=np.zeros(len(tdata))\n",
    "std=np.zeros(len(tdata))\n",
    "for i in range(len(tdata)):\n",
    "    mean2[i]=np.mean(tdata[i])\n",
    "    std[i]=np.std(tdata[i])\n",
    "meanf=mean2.T\n",
    "print(meanf)\n",
    "print(std)"
   ]
  },
  {
   "cell_type": "code",
   "execution_count": 36,
   "id": "2fffe009",
   "metadata": {},
   "outputs": [
    {
     "name": "stdout",
     "output_type": "stream",
     "text": [
      "[1.91390519 1.75123546 1.78705436 1.76050187 1.60931069]\n",
      "[0.47154887 0.43521788 0.48449141 0.52468298 0.45520194]\n"
     ]
    }
   ],
   "source": [
    "#method3\n",
    "#print(data)\n",
    "#i_col=data[:,1]\n",
    "#print(i_col)\n",
    "\n",
    "mean_col=np.zeros(len(data[0]))\n",
    "std_col=np.zeros(len(data[0]))\n",
    "\n",
    "for i in range(len(data[0])):\n",
    "    i_col=data[:,i]\n",
    "    mean_col[i]=np.mean(i_col)\n",
    "    std_col[i]=np.std(i_col)\n",
    "print(mean_col)\n",
    "print(std_col)"
   ]
  },
  {
   "cell_type": "code",
   "execution_count": 37,
   "id": "62fdd7eb",
   "metadata": {},
   "outputs": [
    {
     "name": "stdout",
     "output_type": "stream",
     "text": [
      "[1.91390519 1.75123546 1.78705436 1.76050187 1.60931069]\n",
      "[0.47154887 0.43521788 0.48449141 0.52468298 0.45520194]\n"
     ]
    }
   ],
   "source": [
    "#method4\n",
    "mean_vec=np.mean(data,axis=0)\n",
    "std_vec=np.std(data,axis=0)\n",
    "print(mean_vec)\n",
    "print(std_vec)"
   ]
  },
  {
   "cell_type": "markdown",
   "id": "1b6d942d",
   "metadata": {},
   "source": [
    "#z=(x-U)/sigma\n"
   ]
  },
  {
   "cell_type": "code",
   "execution_count": 38,
   "id": "a3cbe919",
   "metadata": {},
   "outputs": [
    {
     "name": "stdout",
     "output_type": "stream",
     "text": [
      "\n",
      "[[ 1.17805218e+00  6.22571731e-02  1.37240276e+00  5.86008071e-02\n",
      "  -1.30658896e+00]\n",
      " [ 9.99947130e-02  6.78662138e-01 -9.14057739e-01  7.56180398e-01\n",
      "  -8.88653647e-01]\n",
      " [ 7.49709107e-01  1.28606621e+00  2.21719062e-01  3.18733574e-02\n",
      "  -3.64467130e-01]\n",
      " [ 1.02308892e+00  5.46067139e-02 -1.17463729e+00 -8.52974232e-01\n",
      "   1.05163981e+00]\n",
      " [-1.62158251e+00  3.70048383e-01 -9.92197409e-01 -2.23269034e-01\n",
      "   4.93553778e-01]\n",
      " [-8.22900065e-01  6.14555991e-01  1.26371012e+00 -1.23441529e+00\n",
      "  -3.84086641e-01]\n",
      " [ 1.09879451e+00 -1.04491351e-01  1.41600923e+00  2.41766839e-02\n",
      "   2.74663243e-01]\n",
      " [-1.33023392e-01  3.59780612e-01 -7.80101499e-01 -3.45419048e-02\n",
      "  -5.27616763e-01]\n",
      " [ 1.30564019e-01  2.19608203e+00 -8.74239110e-02  3.71564159e-01\n",
      "   3.01040616e-03]\n",
      " [-5.22772248e-01 -7.28809223e-02  1.57363149e+00 -1.20760096e+00\n",
      "  -1.13292998e+00]\n",
      " [ 8.71365627e-01 -6.37580025e-01 -4.97483034e-01  7.13246134e-01\n",
      "  -1.11746369e+00]\n",
      " [-1.09373524e+00  1.62684176e+00 -1.32850628e-01  1.36554410e+00\n",
      "  -9.95430674e-01]\n",
      " [-2.11546810e-01 -7.68005275e-01 -2.32799157e-01 -1.20921621e+00\n",
      "   1.17042876e-01]\n",
      " [-1.37789019e+00  1.25878610e+00  1.82100896e+00 -1.01263783e+00\n",
      "   2.60844060e-01]\n",
      " [ 1.33860108e-01 -3.45463961e-01  4.80597708e-01  7.42783501e-01\n",
      "  -1.31757631e+00]\n",
      " [-1.09225390e+00 -6.72487477e-01  6.75841102e-01  1.15682910e+00\n",
      "  -9.50107038e-01]\n",
      " [ 1.40792377e-01 -2.28093921e-01 -9.03577766e-01 -8.02387726e-01\n",
      "  -1.23103495e-01]\n",
      " [-1.26536975e+00 -1.20665068e+00  5.97767756e-01 -1.20098598e+00\n",
      "  -1.13254791e+00]\n",
      " [-6.83058840e-01 -8.89171903e-01  3.63898391e-01  1.67218976e+00\n",
      "   2.42239127e+00]\n",
      " [ 1.54306883e+00  9.47052141e-01 -1.35924569e+00 -9.05500708e-01\n",
      "   2.66337725e-01]\n",
      " [ 8.28912460e-01  9.22360201e-01 -1.35698162e+00 -1.42453098e+00\n",
      "   1.46806083e-01]\n",
      " [-6.42800581e-01 -1.36112767e+00 -5.50823984e-01  1.57331068e+00\n",
      "  -4.77568892e-01]\n",
      " [ 1.39809823e+00 -1.39495304e+00 -1.44201033e+00 -1.09011777e+00\n",
      "   1.62130000e+00]\n",
      " [ 1.64421641e+00 -1.62314765e+00 -7.97114654e-01  1.38656273e+00\n",
      "   9.38396647e-01]\n",
      " [-1.72859509e+00  1.63024378e+00  6.48418209e-01 -8.38502759e-01\n",
      "   6.96996775e-02]\n",
      " [-7.84555009e-01  1.95767690e-01  5.58525914e-01 -8.81360171e-01\n",
      "   1.26353386e+00]\n",
      " [-3.38241534e-02  7.72545061e-01 -6.06915108e-01  5.12056535e-01\n",
      "  -4.25455089e-01]\n",
      " [-4.20021578e-02 -2.00580078e-01 -4.88065289e-01 -1.07653450e+00\n",
      "  -8.93399612e-01]\n",
      " [-5.68296759e-01 -1.25893504e+00 -1.46829291e+00 -1.12316815e+00\n",
      "  -1.13491152e+00]\n",
      " [ 1.47756245e+00  2.58699676e-01 -3.71466345e-01  1.62687800e+00\n",
      "  -2.41274986e-01]\n",
      " [ 1.50113613e+00  6.93677089e-01  3.51236030e-02  1.49595778e+00\n",
      "  -8.04078219e-01]\n",
      " [ 4.40870734e-02 -3.41879679e-01  1.91712029e+00  3.95240728e-01\n",
      "   1.17852624e-01]\n",
      " [ 1.01268284e+00 -1.39340358e+00 -6.63089655e-01 -6.37462150e-01\n",
      "   1.32898708e+00]\n",
      " [-7.09344601e-01 -1.74328886e-01 -1.36657324e+00  2.65820400e-01\n",
      "   5.47382197e-01]\n",
      " [-1.20007740e+00 -1.29235455e+00  1.20980875e+00  1.09475958e+00\n",
      "   1.50912694e+00]\n",
      " [-1.70175695e+00  2.38994739e-01  2.40973702e-04  1.28248441e+00\n",
      "  -4.11697682e-03]\n",
      " [ 9.99963201e-01 -1.18347047e+00  1.53669249e+00 -1.48136325e-01\n",
      "  -2.30868957e-01]\n",
      " [ 3.78584557e-02  1.08674817e+00 -5.35415725e-01 -1.36518946e+00\n",
      "   2.05930297e-01]\n",
      " [ 1.48693690e+00 -3.91531622e-01  5.49012925e-01 -8.35384823e-01\n",
      "  -1.28693822e+00]\n",
      " [ 5.94326415e-01 -8.57518189e-01 -1.29433124e+00 -1.82801870e-01\n",
      "  -9.25180235e-01]\n",
      " [ 5.91014035e-01 -1.53415729e+00  5.54898679e-02 -3.06113917e-01\n",
      "   2.25848198e+00]\n",
      " [ 1.63963459e+00  1.51028497e+00 -3.86627667e-01  6.74452203e-01\n",
      "  -1.15014080e+00]\n",
      " [-1.04450036e+00  2.08906079e+00 -1.18631063e+00  1.36490302e+00\n",
      "   8.80034046e-04]\n",
      " [-7.72967985e-01 -6.03029169e-01  9.10574935e-01  2.65523870e-02\n",
      "   1.23957383e+00]\n",
      " [-1.90603353e+00 -1.95154994e-01 -7.31155412e-01 -1.14816431e-01\n",
      "   1.51615261e+00]\n",
      " [ 2.90088825e-01 -3.61457839e-01  1.79040428e+00  1.57494087e+00\n",
      "  -4.33375447e-01]\n",
      " [-2.57077995e-01  1.22614616e+00 -4.37574803e-01 -1.39470366e+00\n",
      "  -1.19892922e+00]\n",
      " [-6.42632639e-01 -8.65730461e-01  4.66405384e-01 -5.80179390e-01\n",
      "   1.33099265e-01]\n",
      " [ 5.54763145e-03 -9.47680219e-01  1.82061984e+00  1.48138872e+00\n",
      "   2.14574407e+00]\n",
      " [ 3.37242129e-01  8.25998383e-01 -5.27901315e-01 -9.65763824e-01\n",
      "  -4.85619959e-01]]\n",
      "\n",
      "\n"
     ]
    }
   ],
   "source": [
    "#method1\n",
    "#print(data)\n",
    "ndata=data.copy()\n",
    "print()\n",
    "for i in range(len(data[0])):\n",
    "    i_col=data[:,i]\n",
    "    ndata[:,i]=(ndata[:,i]-mean_vec[i])/std_vec[i]\n",
    "print(ndata)\n",
    "print()\n",
    "print()\n",
    "#print(data)"
   ]
  },
  {
   "cell_type": "code",
   "execution_count": 39,
   "id": "a5699dd7",
   "metadata": {},
   "outputs": [
    {
     "name": "stdout",
     "output_type": "stream",
     "text": [
      "[-1.28119737e-15 -1.90514271e-15 -7.34967642e-16  1.33670852e-15\n",
      " -9.04831765e-16]\n",
      "[1. 1. 1. 1. 1.]\n"
     ]
    }
   ],
   "source": [
    "nmean_vec=np.mean(ndata,axis=0)\n",
    "nstd_vec=np.std(ndata,axis=0)\n",
    "print(nmean_vec)\n",
    "print(nstd_vec)"
   ]
  },
  {
   "cell_type": "code",
   "execution_count": null,
   "id": "e45ce4c7",
   "metadata": {},
   "outputs": [],
   "source": []
  },
  {
   "cell_type": "code",
   "execution_count": null,
   "id": "4f37a14e",
   "metadata": {},
   "outputs": [],
   "source": []
  },
  {
   "cell_type": "code",
   "execution_count": 40,
   "id": "832a1594",
   "metadata": {},
   "outputs": [
    {
     "name": "stdout",
     "output_type": "stream",
     "text": [
      "[-1.28119737e-15 -1.90514271e-15 -7.34967642e-16  1.33670852e-15\n",
      " -9.04831765e-16]\n",
      "[1. 1. 1. 1. 1.]\n"
     ]
    }
   ],
   "source": [
    "#method2\n",
    "normalised_data=(data-mean_vec)/std_vec\n",
    "normalised_mean=np.mean(normalised_data,axis=0)\n",
    "normalised_std=np.std(normalised_data,axis=0)\n",
    "#print(normalised_data)\n",
    "print(normalised_mean)\n",
    "print(normalised_std)"
   ]
  },
  {
   "cell_type": "code",
   "execution_count": 41,
   "id": "6a6a7af9",
   "metadata": {},
   "outputs": [
    {
     "name": "stdout",
     "output_type": "stream",
     "text": [
      "-6.978861932793734e-16\n"
     ]
    }
   ],
   "source": [
    "print(np.mean(normalised_mean))"
   ]
  },
  {
   "cell_type": "code",
   "execution_count": 42,
   "id": "a8c39168",
   "metadata": {},
   "outputs": [],
   "source": [
    "# as we can see mean in each column is approx 0 and sd is 1\n"
   ]
  },
  {
   "cell_type": "markdown",
   "id": "1210b37a",
   "metadata": {},
   "source": [
    "# vandermonde matrix"
   ]
  },
  {
   "cell_type": "code",
   "execution_count": 43,
   "id": "95f455a7",
   "metadata": {},
   "outputs": [],
   "source": [
    "import numpy as np"
   ]
  },
  {
   "cell_type": "code",
   "execution_count": 44,
   "id": "e426b915",
   "metadata": {},
   "outputs": [],
   "source": [
    "def vandermonde(n):\n",
    "    vec=np.arange(n)+1\n",
    "    print(vec)\n",
    "    tvec=vec.reshape((n,1))\n",
    "    print(tvec)\n",
    "    #vander=tvec**vec\n",
    "    vander=vec**tvec\n",
    "    vander=vander/vec\n",
    "    #vander=vander.T\n",
    "    vander=vander.astype(int)\n",
    "    return vander\n"
   ]
  },
  {
   "cell_type": "code",
   "execution_count": 45,
   "id": "84e1f493",
   "metadata": {
    "scrolled": true
   },
   "outputs": [
    {
     "name": "stdout",
     "output_type": "stream",
     "text": [
      "[ 1  2  3  4  5  6  7  8  9 10 11 12]\n",
      "[[ 1]\n",
      " [ 2]\n",
      " [ 3]\n",
      " [ 4]\n",
      " [ 5]\n",
      " [ 6]\n",
      " [ 7]\n",
      " [ 8]\n",
      " [ 9]\n",
      " [10]\n",
      " [11]\n",
      " [12]]\n",
      "[[         1          1          1          1          1          1\n",
      "           1          1          1          1          1          1]\n",
      " [         1          2          3          4          5          6\n",
      "           7          8          9         10         11         12]\n",
      " [         1          4          9         16         25         36\n",
      "          49         64         81        100        121        144]\n",
      " [         1          8         27         64        125        216\n",
      "         343        512        729       1000       1331       1728]\n",
      " [         1         16         81        256        625       1296\n",
      "        2401       4096       6561      10000      14641      20736]\n",
      " [         1         32        243       1024       3125       7776\n",
      "       16807      32768      59049     100000     161051     248832]\n",
      " [         1         64        729       4096      15625      46656\n",
      "      117649     262144     531441    1000000    1771561    2985984]\n",
      " [         1        128       2187      16384      78125     279936\n",
      "      823543    2097152    4782969   10000000   19487171   35831808]\n",
      " [         1        256       6561      65536     390625    1679616\n",
      "     5764801   16777216   43046721  100000000 -176092691   72067754]\n",
      " [         1        512      19683     262144    1953125   10077696\n",
      "    40353607  134217728  -89798099  141006540   15238256  148985173]\n",
      " [         1       1024      59049    1048576    9765625   60466176\n",
      "   282475249          0  146254281  121575219  167620825   -1747626]\n",
      " [         1       2048     177147    4194304   48828125 -353030826\n",
      "   136626473          0 -115367228  -72737996 -108428786  -20971520]]\n"
     ]
    }
   ],
   "source": [
    "vander=vandermonde(12)\n",
    "print(vander)"
   ]
  },
  {
   "cell_type": "code",
   "execution_count": null,
   "id": "c18e44a5",
   "metadata": {},
   "outputs": [],
   "source": []
  },
  {
   "cell_type": "markdown",
   "id": "73b89cf8",
   "metadata": {},
   "source": []
  },
  {
   "cell_type": "code",
   "execution_count": 46,
   "id": "1c0c41e8",
   "metadata": {},
   "outputs": [],
   "source": [
    "#by loop\n",
    "def vandermonde1(n):\n",
    "    vec=np.arange(n)+1\n",
    "    print(vec)\n",
    "    vec2=np.ones((n,n))\n",
    "    for i in range(1,n):\n",
    "        temp=vec2[i-1]*vec\n",
    "        vec2[i]=temp\n",
    "    print(vec2)"
   ]
  },
  {
   "cell_type": "code",
   "execution_count": 47,
   "id": "94c25fe3",
   "metadata": {},
   "outputs": [
    {
     "name": "stdout",
     "output_type": "stream",
     "text": [
      "[1 2 3 4 5]\n",
      "[[  1.   1.   1.   1.   1.]\n",
      " [  1.   2.   3.   4.   5.]\n",
      " [  1.   4.   9.  16.  25.]\n",
      " [  1.   8.  27.  64. 125.]\n",
      " [  1.  16.  81. 256. 625.]]\n"
     ]
    }
   ],
   "source": [
    "vandermonde1(5)"
   ]
  },
  {
   "cell_type": "code",
   "execution_count": null,
   "id": "8ea344bb",
   "metadata": {},
   "outputs": [],
   "source": []
  },
  {
   "cell_type": "markdown",
   "id": "5b382f72",
   "metadata": {},
   "source": [
    "# vector matrix multiplication\n"
   ]
  },
  {
   "cell_type": "code",
   "execution_count": null,
   "id": "fe2b106a",
   "metadata": {},
   "outputs": [],
   "source": []
  },
  {
   "cell_type": "code",
   "execution_count": null,
   "id": "dc985407",
   "metadata": {},
   "outputs": [],
   "source": []
  },
  {
   "cell_type": "code",
   "execution_count": 48,
   "id": "a5fb85de",
   "metadata": {},
   "outputs": [],
   "source": [
    "import numpy as np\n",
    "def matrix_multiplication(A,B):\n",
    "    if len(A[0]) != len(B):\n",
    "        print(\"not possible to multiply\")\n",
    "        return \n",
    "    m=len(A)\n",
    "    p=len(B)\n",
    "    n=len(B[0])\n",
    "    mat=np.zeros((m,n))\n",
    "    for i in range(m):       \n",
    "        for j in range(n):\n",
    "            for k in range(p):\n",
    "                mat[i][j]+= A[i][k]*B[k][j]\n",
    "            \n",
    "    return mat\n",
    "# time complexicity = m*n*p"
   ]
  },
  {
   "cell_type": "code",
   "execution_count": 49,
   "id": "09570cb1",
   "metadata": {},
   "outputs": [
    {
     "name": "stdout",
     "output_type": "stream",
     "text": [
      "[[1]\n",
      " [1]\n",
      " [1]\n",
      " [1]\n",
      " [1]\n",
      " [1]\n",
      " [1]\n",
      " [1]\n",
      " [1]\n",
      " [1]\n",
      " [1]\n",
      " [1]]\n",
      "[[         1          1          1          1          1          1\n",
      "           1          1          1          1          1          1]\n",
      " [         1          2          3          4          5          6\n",
      "           7          8          9         10         11         12]\n",
      " [         1          4          9         16         25         36\n",
      "          49         64         81        100        121        144]\n",
      " [         1          8         27         64        125        216\n",
      "         343        512        729       1000       1331       1728]\n",
      " [         1         16         81        256        625       1296\n",
      "        2401       4096       6561      10000      14641      20736]\n",
      " [         1         32        243       1024       3125       7776\n",
      "       16807      32768      59049     100000     161051     248832]\n",
      " [         1         64        729       4096      15625      46656\n",
      "      117649     262144     531441    1000000    1771561    2985984]\n",
      " [         1        128       2187      16384      78125     279936\n",
      "      823543    2097152    4782969   10000000   19487171   35831808]\n",
      " [         1        256       6561      65536     390625    1679616\n",
      "     5764801   16777216   43046721  100000000 -176092691   72067754]\n",
      " [         1        512      19683     262144    1953125   10077696\n",
      "    40353607  134217728  -89798099  141006540   15238256  148985173]\n",
      " [         1       1024      59049    1048576    9765625   60466176\n",
      "   282475249          0  146254281  121575219  167620825   -1747626]\n",
      " [         1       2048     177147    4194304   48828125 -353030826\n",
      "   136626473          0 -115367228  -72737996 -108428786  -20971520]]\n",
      "product= [[        12         78        650       6084      60710     630708\n",
      "     6735950   73399404   63706396  402316366  787518399 -480708258]]\n"
     ]
    }
   ],
   "source": [
    "#b\n",
    "x=np.ones((12,1)).astype(int)\n",
    "print(x)\n",
    "print(vander)\n",
    "b=matrix_multiplication(vander,x).astype(int)\n",
    "print(\"product=\",b.T)"
   ]
  },
  {
   "cell_type": "code",
   "execution_count": null,
   "id": "df6218fd",
   "metadata": {},
   "outputs": [],
   "source": []
  },
  {
   "cell_type": "code",
   "execution_count": 50,
   "id": "41cd7be7",
   "metadata": {},
   "outputs": [
    {
     "name": "stdout",
     "output_type": "stream",
     "text": [
      "[[         1          1          1          1          1          1\n",
      "           1          1          1          1          1          1]\n",
      " [         1          2          3          4          5          6\n",
      "           7          8          9         10         11         12]\n",
      " [         1          4          9         16         25         36\n",
      "          49         64         81        100        121        144]\n",
      " [         1          8         27         64        125        216\n",
      "         343        512        729       1000       1331       1728]\n",
      " [         1         16         81        256        625       1296\n",
      "        2401       4096       6561      10000      14641      20736]\n",
      " [         1         32        243       1024       3125       7776\n",
      "       16807      32768      59049     100000     161051     248832]\n",
      " [         1         64        729       4096      15625      46656\n",
      "      117649     262144     531441    1000000    1771561    2985984]\n",
      " [         1        128       2187      16384      78125     279936\n",
      "      823543    2097152    4782969   10000000   19487171   35831808]\n",
      " [         1        256       6561      65536     390625    1679616\n",
      "     5764801   16777216   43046721  100000000 -176092691   72067754]\n",
      " [         1        512      19683     262144    1953125   10077696\n",
      "    40353607  134217728  -89798099  141006540   15238256  148985173]\n",
      " [         1       1024      59049    1048576    9765625   60466176\n",
      "   282475249          0  146254281  121575219  167620825   -1747626]\n",
      " [         1       2048     177147    4194304   48828125 -353030826\n",
      "   136626473          0 -115367228  -72737996 -108428786  -20971520]]\n",
      "[[  6 -10   6  -2   0   0   0   0   0   0   0   0]\n",
      " [-19  40 -30  11  -2   0   0   0   0   0   0   0]\n",
      " [ 29 -65  53 -21   4   0   0   0   0   0   0   0]\n",
      " [-23  54 -46  19  -4   0   0   0   0   0   0   0]\n",
      " [  7 -18  16  -7   1   0   0   0   0   0   0   0]\n",
      " [  0  -1   1   0   0   0   0   0   0   0   0   0]\n",
      " [  0   0   0   0   0   0   0   0   0   0   0   0]\n",
      " [  0   0   0   0   0   0   0   0   0   0   0   0]\n",
      " [  0   0   0   0   0   0   0   0   0   0   0   0]\n",
      " [  0   0   0   0   0   0   0   0   0   0   0   0]\n",
      " [  0   0   0   0   0   0   0   0   0   0   0   0]\n",
      " [  0   0   0   0   0   0   0   0   0   0   0   0]]\n",
      "[[  -8976]\n",
      " [ -71104]\n",
      " [ 144804]\n",
      " [-153208]\n",
      " [  27202]\n",
      " [    572]\n",
      " [      0]\n",
      " [      0]\n",
      " [      0]\n",
      " [      0]\n",
      " [      0]\n",
      " [      0]]\n"
     ]
    }
   ],
   "source": [
    "#c\n",
    "import numpy.linalg as nl\n",
    "inv=nl.inv(vander).astype(int)\n",
    "pro1=matrix_multiplication(inv,b).astype(int)\n",
    "print(vander)\n",
    "print(inv)\n",
    "print(pro1)"
   ]
  },
  {
   "cell_type": "code",
   "execution_count": 51,
   "id": "f41da8b3",
   "metadata": {},
   "outputs": [
    {
     "name": "stdout",
     "output_type": "stream",
     "text": [
      "9.80551803726207e+49\n"
     ]
    }
   ],
   "source": [
    "print(nl.det(vander))"
   ]
  },
  {
   "cell_type": "code",
   "execution_count": 52,
   "id": "9e48fa4c",
   "metadata": {},
   "outputs": [
    {
     "name": "stdout",
     "output_type": "stream",
     "text": [
      "[[        12]\n",
      " [        78]\n",
      " [       650]\n",
      " [      6084]\n",
      " [     60710]\n",
      " [    630708]\n",
      " [   6735950]\n",
      " [  73399404]\n",
      " [  63706396]\n",
      " [ 402316366]\n",
      " [ 787518399]\n",
      " [-480708258]]\n",
      "[[  -8976]\n",
      " [ -71104]\n",
      " [ 144804]\n",
      " [-153208]\n",
      " [  27202]\n",
      " [    572]\n",
      " [      0]\n",
      " [      0]\n",
      " [      0]\n",
      " [      0]\n",
      " [      0]\n",
      " [      0]]\n"
     ]
    }
   ],
   "source": [
    "#method2\n",
    "bb=np.dot(vander,x)\n",
    "print(bb)\n",
    "pro2=np.dot(inv,bb)\n",
    "print(pro2)"
   ]
  },
  {
   "cell_type": "code",
   "execution_count": 53,
   "id": "2186c961",
   "metadata": {},
   "outputs": [],
   "source": [
    "# there is a difference in between values due to ill conditioned number"
   ]
  },
  {
   "cell_type": "code",
   "execution_count": 54,
   "id": "82f938f2",
   "metadata": {},
   "outputs": [
    {
     "name": "stdout",
     "output_type": "stream",
     "text": [
      "[[         1          1          1          1          1          1\n",
      "           1          1          1          1          1          1]\n",
      " [         1          2          3          4          5          6\n",
      "           7          8          9         10         11         12]\n",
      " [         1          4          9         16         25         36\n",
      "          49         64         81        100        121        144]\n",
      " [         1          8         27         64        125        216\n",
      "         343        512        729       1000       1331       1728]\n",
      " [         1         16         81        256        625       1296\n",
      "        2401       4096       6561      10000      14641      20736]\n",
      " [         1         32        243       1024       3125       7776\n",
      "       16807      32768      59049     100000     161051     248832]\n",
      " [         1         64        729       4096      15625      46656\n",
      "      117649     262144     531441    1000000    1771561    2985984]\n",
      " [         1        128       2187      16384      78125     279936\n",
      "      823543    2097152    4782969   10000000   19487171   35831808]\n",
      " [         1        256       6561      65536     390625    1679616\n",
      "     5764801   16777216   43046721  100000000 -176092691   72067754]\n",
      " [         1        512      19683     262144    1953125   10077696\n",
      "    40353607  134217728  -89798099  141006540   15238256  148985173]\n",
      " [         1       1024      59049    1048576    9765625   60466176\n",
      "   282475249          0  146254281  121575219  167620825   -1747626]\n",
      " [         1       2048     177147    4194304   48828125 -353030826\n",
      "   136626473          0 -115367228  -72737996 -108428786  -20971520]]\n",
      "[[        12]\n",
      " [        78]\n",
      " [       650]\n",
      " [      6084]\n",
      " [     60710]\n",
      " [    630708]\n",
      " [   6735950]\n",
      " [  73399404]\n",
      " [  63706396]\n",
      " [ 402316366]\n",
      " [ 787518399]\n",
      " [-480708258]]\n",
      "[[1.        ]\n",
      " [0.99999999]\n",
      " [1.00000003]\n",
      " [0.99999996]\n",
      " [1.00000002]\n",
      " [1.        ]\n",
      " [1.        ]\n",
      " [1.        ]\n",
      " [1.        ]\n",
      " [1.        ]\n",
      " [1.        ]\n",
      " [1.        ]]\n"
     ]
    }
   ],
   "source": [
    "#d\n",
    "print(vander)\n",
    "print(b)\n",
    "y=nl.solve(vander,b)\n",
    "print(y)"
   ]
  },
  {
   "cell_type": "code",
   "execution_count": 55,
   "id": "097ae6a2",
   "metadata": {},
   "outputs": [],
   "source": [
    "# so we get y values approx equal to x values  by solve method of linalg"
   ]
  },
  {
   "cell_type": "code",
   "execution_count": null,
   "id": "d396992d",
   "metadata": {},
   "outputs": [],
   "source": []
  },
  {
   "cell_type": "code",
   "execution_count": null,
   "id": "a4d31cd7",
   "metadata": {},
   "outputs": [],
   "source": []
  },
  {
   "cell_type": "code",
   "execution_count": null,
   "id": "73a38903",
   "metadata": {},
   "outputs": [],
   "source": []
  },
  {
   "cell_type": "code",
   "execution_count": null,
   "id": "ebaf7fff",
   "metadata": {},
   "outputs": [],
   "source": []
  },
  {
   "cell_type": "code",
   "execution_count": null,
   "id": "c51da097",
   "metadata": {},
   "outputs": [],
   "source": []
  },
  {
   "cell_type": "markdown",
   "id": "a37dfa21",
   "metadata": {},
   "source": [
    "# rough work"
   ]
  },
  {
   "cell_type": "code",
   "execution_count": null,
   "id": "b2432d31",
   "metadata": {},
   "outputs": [],
   "source": []
  },
  {
   "cell_type": "code",
   "execution_count": null,
   "id": "5b0ebd32",
   "metadata": {},
   "outputs": [],
   "source": []
  },
  {
   "cell_type": "code",
   "execution_count": null,
   "id": "e7580333",
   "metadata": {},
   "outputs": [],
   "source": []
  },
  {
   "cell_type": "code",
   "execution_count": 194,
   "id": "a4477fe4",
   "metadata": {},
   "outputs": [
    {
     "ename": "NameError",
     "evalue": "name 'random' is not defined",
     "output_type": "error",
     "traceback": [
      "\u001b[1;31m---------------------------------------------------------------------------\u001b[0m",
      "\u001b[1;31mNameError\u001b[0m                                 Traceback (most recent call last)",
      "Input \u001b[1;32mIn [194]\u001b[0m, in \u001b[0;36m<cell line: 2>\u001b[1;34m()\u001b[0m\n\u001b[0;32m      1\u001b[0m \u001b[38;5;28;01mimport\u001b[39;00m \u001b[38;5;21;01mnumpy\u001b[39;00m\u001b[38;5;21;01m.\u001b[39;00m\u001b[38;5;21;01mrandom\u001b[39;00m \u001b[38;5;28;01mas\u001b[39;00m \u001b[38;5;21;01mrr\u001b[39;00m\n\u001b[1;32m----> 2\u001b[0m li\u001b[38;5;241m=\u001b[39m\u001b[43mrandom\u001b[49m\u001b[38;5;241m.\u001b[39mrandint(\u001b[38;5;241m1\u001b[39m,\u001b[38;5;241m6\u001b[39m)\n\u001b[0;32m      3\u001b[0m \u001b[38;5;28mprint\u001b[39m(li)\n\u001b[0;32m      4\u001b[0m num2\u001b[38;5;241m=\u001b[39mrr\u001b[38;5;241m.\u001b[39mrand(\u001b[38;5;241m10\u001b[39m)\n",
      "\u001b[1;31mNameError\u001b[0m: name 'random' is not defined"
     ]
    }
   ],
   "source": [
    "import numpy.random as rr\n",
    "li=random.randint(1,6)\n",
    "print(li)\n",
    "num2=rr.rand(10)\n",
    "print(num2)\n",
    "num3=(num2*6)//1\n",
    "print(num3)\n",
    "num4=num3+1\n",
    "print(num4)\n",
    "\n",
    "print(random.randint(3, 9))"
   ]
  },
  {
   "cell_type": "code",
   "execution_count": 195,
   "id": "28026b37",
   "metadata": {},
   "outputs": [
    {
     "name": "stdout",
     "output_type": "stream",
     "text": [
      "[[0.13672915 0.78450148 0.7224163 ]\n",
      " [0.26554107 0.79682555 0.68846645]]\n"
     ]
    }
   ],
   "source": [
    "num5=np.random.rand(2,3)\n",
    "print(num5)"
   ]
  },
  {
   "cell_type": "code",
   "execution_count": 196,
   "id": "3c19cc3c",
   "metadata": {},
   "outputs": [
    {
     "name": "stdout",
     "output_type": "stream",
     "text": [
      "[[2.8965996  1.92637257 5.34328711 2.32977318 0.58046739]\n",
      " [0.48549014 2.10449815 0.32903594 1.28636621 2.00059112]\n",
      " [0.28228304 1.03683846 2.9533377  0.57086783 1.51153774]\n",
      " [0.94480471 0.78741259 1.50068869 0.68594109 1.50833957]\n",
      " [0.33030714 1.42063719 1.07527948 1.02548455 1.27466505]]\n"
     ]
    }
   ],
   "source": [
    "import numpy.random as npr\n",
    "data = np.exp(npr.randn(5 , 5 ))\n",
    "print(data)\n"
   ]
  },
  {
   "cell_type": "code",
   "execution_count": 197,
   "id": "f6bee86c",
   "metadata": {},
   "outputs": [
    {
     "name": "stdout",
     "output_type": "stream",
     "text": [
      "148.4131591025766\n"
     ]
    }
   ],
   "source": [
    "data=np.exp(5)\n",
    "print(data)"
   ]
  },
  {
   "cell_type": "code",
   "execution_count": 198,
   "id": "929160d0",
   "metadata": {},
   "outputs": [],
   "source": [
    "nums6=np.array([[1],[2],[3]])"
   ]
  },
  {
   "cell_type": "code",
   "execution_count": 199,
   "id": "6f6ff985",
   "metadata": {},
   "outputs": [
    {
     "name": "stdout",
     "output_type": "stream",
     "text": [
      "[[3.87298103]\n",
      " [3.92459151]]\n"
     ]
    }
   ],
   "source": [
    "nums7=np.dot(num5,nums6)\n",
    "print(nums7)"
   ]
  },
  {
   "cell_type": "code",
   "execution_count": 200,
   "id": "6147b8ca",
   "metadata": {},
   "outputs": [],
   "source": [
    "nums7=nums6/2"
   ]
  },
  {
   "cell_type": "code",
   "execution_count": 201,
   "id": "d3cb8384",
   "metadata": {},
   "outputs": [
    {
     "name": "stdout",
     "output_type": "stream",
     "text": [
      "[[0.5]\n",
      " [1. ]\n",
      " [1.5]]\n"
     ]
    }
   ],
   "source": [
    "print(nums7)"
   ]
  },
  {
   "cell_type": "code",
   "execution_count": 202,
   "id": "88769247",
   "metadata": {},
   "outputs": [
    {
     "data": {
      "text/plain": [
       "(array([12, 15, 18]), array([ 6, 15, 24]))"
      ]
     },
     "execution_count": 202,
     "metadata": {},
     "output_type": "execute_result"
    }
   ],
   "source": [
    "import numpy as np\n",
    "\n",
    "# Create a sample 2D array\n",
    "array_2d = np.array([[1, 2, 3],\n",
    "                     [4, 5, 6],\n",
    "                     [7, 8, 9]])\n",
    "\n",
    "# Sum along axis 0 (summing rows)\n",
    "sum_axis_0 = np.sum(array_2d, axis=0)\n",
    "\n",
    "# Sum along axis 1 (summing columns)\n",
    "sum_axis_1 = np.sum(array_2d, axis=1)\n",
    "\n",
    "sum_axis_0, sum_axis_1\n"
   ]
  },
  {
   "cell_type": "code",
   "execution_count": null,
   "id": "6b984cd9",
   "metadata": {},
   "outputs": [],
   "source": []
  },
  {
   "cell_type": "code",
   "execution_count": null,
   "id": "e06d006d",
   "metadata": {},
   "outputs": [],
   "source": []
  },
  {
   "cell_type": "code",
   "execution_count": null,
   "id": "97987298",
   "metadata": {},
   "outputs": [],
   "source": []
  }
 ],
 "metadata": {
  "kernelspec": {
   "display_name": "Python 3 (ipykernel)",
   "language": "python",
   "name": "python3"
  },
  "language_info": {
   "codemirror_mode": {
    "name": "ipython",
    "version": 3
   },
   "file_extension": ".py",
   "mimetype": "text/x-python",
   "name": "python",
   "nbconvert_exporter": "python",
   "pygments_lexer": "ipython3",
   "version": "3.9.12"
  }
 },
 "nbformat": 4,
 "nbformat_minor": 5
}
